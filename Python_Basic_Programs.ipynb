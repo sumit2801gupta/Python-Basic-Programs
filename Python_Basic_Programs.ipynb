{
  "nbformat": 4,
  "nbformat_minor": 0,
  "metadata": {
    "colab": {
      "name": "Python_Basic_Programs.ipynb",
      "provenance": []
    },
    "kernelspec": {
      "display_name": "Python 3",
      "name": "python3"
    },
    "language_info": {
      "name": "python"
    }
  },
  "cells": [
    {
      "cell_type": "markdown",
      "metadata": {
        "id": "1aW0rX_l3s2F"
      },
      "source": [
        "# Python Program to Reverse a Number"
      ]
    },
    {
      "cell_type": "code",
      "metadata": {
        "id": "e1yoeA4mlQv5",
        "colab": {
          "base_uri": "https://localhost:8080/"
        },
        "outputId": "4546deb9-80b6-4e33-984b-306acd98c773"
      },
      "source": [
        "num = int(input(\"Enter a number : \"))"
      ],
      "execution_count": 1,
      "outputs": [
        {
          "output_type": "stream",
          "text": [
            "Enter a number : 12345678\n"
          ],
          "name": "stdout"
        }
      ]
    },
    {
      "cell_type": "markdown",
      "metadata": {
        "id": "EkXrz_t74Nvd"
      },
      "source": [
        "#### 1. Using String Method"
      ]
    },
    {
      "cell_type": "code",
      "metadata": {
        "colab": {
          "base_uri": "https://localhost:8080/"
        },
        "id": "FjrEIqLL35d-",
        "outputId": "04690145-0d20-44a6-a002-d6d9aecee800"
      },
      "source": [
        "print(str(num)[::-1])"
      ],
      "execution_count": 2,
      "outputs": [
        {
          "output_type": "stream",
          "text": [
            "87654321\n"
          ],
          "name": "stdout"
        }
      ]
    },
    {
      "cell_type": "markdown",
      "metadata": {
        "id": "FPak4mE94R9h"
      },
      "source": [
        "#### 2.Using while Method\n"
      ]
    },
    {
      "cell_type": "code",
      "metadata": {
        "colab": {
          "base_uri": "https://localhost:8080/"
        },
        "id": "cUnpdspY4L79",
        "outputId": "fb916622-724a-4168-a4f8-0548c8395c3b"
      },
      "source": [
        "digit = 0\n",
        "rev_num = 0\n",
        "\n",
        "while num != 0:\n",
        "    digit = num % 10\n",
        "    rev_num = rev_num * 10 + digit\n",
        "    num //= 10\n",
        "print(rev_num)"
      ],
      "execution_count": 4,
      "outputs": [
        {
          "output_type": "stream",
          "text": [
            "87654321\n"
          ],
          "name": "stdout"
        }
      ]
    },
    {
      "cell_type": "markdown",
      "metadata": {
        "id": "g9z3X27rGci2"
      },
      "source": [
        "# Python Program to Check if a Number is Odd or Even"
      ]
    },
    {
      "cell_type": "code",
      "metadata": {
        "colab": {
          "base_uri": "https://localhost:8080/"
        },
        "id": "b2wRHDJO5j1M",
        "outputId": "b34608eb-a653-4ddc-9df6-09d1525c2a55"
      },
      "source": [
        "num = int(input(\"Enter a num : \"))"
      ],
      "execution_count": 9,
      "outputs": [
        {
          "output_type": "stream",
          "text": [
            "Enter a num : 789\n"
          ],
          "name": "stdout"
        }
      ]
    },
    {
      "cell_type": "code",
      "metadata": {
        "colab": {
          "base_uri": "https://localhost:8080/"
        },
        "id": "luP9iQb0G48Z",
        "outputId": "67c1b214-a963-47d2-a727-d4ca6d527eb8"
      },
      "source": [
        "if (num % 2 == 0):\n",
        "    print(\"The number is EVEN\")\n",
        "else:\n",
        "      print(\"The number is ODD\")"
      ],
      "execution_count": 10,
      "outputs": [
        {
          "output_type": "stream",
          "text": [
            "The number is ODD\n"
          ],
          "name": "stdout"
        }
      ]
    },
    {
      "cell_type": "markdown",
      "metadata": {
        "id": "ruygd0CiHu5_"
      },
      "source": [
        "# Python Program to Find the Largest Among Three Numbers"
      ]
    },
    {
      "cell_type": "code",
      "metadata": {
        "colab": {
          "base_uri": "https://localhost:8080/"
        },
        "id": "U1SyyBCTHYOD",
        "outputId": "ad56a9b6-89be-4ce9-ecea-b4729e7e3ee6"
      },
      "source": [
        "num1 = int(input(\"Enter the First num : \"))\n",
        "num2 = int(input(\"Enter the Second num : \"))\n",
        "num3 = int(input(\"Enter the Third num : \"))"
      ],
      "execution_count": 12,
      "outputs": [
        {
          "output_type": "stream",
          "text": [
            "Enter the First num : 12\n",
            "Enter the Second num : 14\n",
            "Enter the Third num : 13\n"
          ],
          "name": "stdout"
        }
      ]
    },
    {
      "cell_type": "code",
      "metadata": {
        "colab": {
          "base_uri": "https://localhost:8080/"
        },
        "id": "JwrWIie_IjcL",
        "outputId": "0bfdee5e-c608-4277-e268-e193a6f53af5"
      },
      "source": [
        "if (num1 >= num2) and (num1 >= num3):\n",
        "    largest = num1\n",
        "elif (num2 >= num1) and (num2 >= num3):\n",
        "    largest = num2\n",
        "else:\n",
        "    largest = num3\n",
        "\n",
        "print(\"The largest number is :\", largest)"
      ],
      "execution_count": 14,
      "outputs": [
        {
          "output_type": "stream",
          "text": [
            "The largest number is : 14\n"
          ],
          "name": "stdout"
        }
      ]
    },
    {
      "cell_type": "markdown",
      "metadata": {
        "id": "nvh-Hiw_JyJb"
      },
      "source": [
        "# Python Program to Check Prime Number"
      ]
    },
    {
      "cell_type": "code",
      "metadata": {
        "colab": {
          "base_uri": "https://localhost:8080/"
        },
        "id": "CG89CVbMJxhf",
        "outputId": "788c0026-451c-4c7e-9aec-0bb614d54cfd"
      },
      "source": [
        "num = int(input(\"Enter the number : \"))"
      ],
      "execution_count": 21,
      "outputs": [
        {
          "output_type": "stream",
          "text": [
            "Enter the number : 13\n"
          ],
          "name": "stdout"
        }
      ]
    },
    {
      "cell_type": "code",
      "metadata": {
        "colab": {
          "base_uri": "https://localhost:8080/"
        },
        "id": "u-2rElf5Jxer",
        "outputId": "60c06003-ddac-44f8-fe08-e783834d1403"
      },
      "source": [
        "  if num > 1:\n",
        "      for i in range(2,num):\n",
        "          if (num % i) == 0:\n",
        "            print(num, \"is not a prime number\")\n",
        "            break\n",
        "      else:\n",
        "        print(num,\"is a prime number\")\n",
        "  else:\n",
        "        print(num, \"is not a prime number\")"
      ],
      "execution_count": 39,
      "outputs": [
        {
          "output_type": "stream",
          "text": [
            "13 is a prime number\n"
          ],
          "name": "stdout"
        }
      ]
    },
    {
      "cell_type": "markdown",
      "metadata": {
        "id": "4aAfWyRBK3gL"
      },
      "source": [
        "# Python Program to Check Armstrong Number"
      ]
    },
    {
      "cell_type": "code",
      "metadata": {
        "colab": {
          "base_uri": "https://localhost:8080/"
        },
        "id": "wHufMCTGJxcC",
        "outputId": "8509f478-8447-4daa-c50d-4ff3a2bc641d"
      },
      "source": [
        "num = int(input(\"Enter the number : \"))"
      ],
      "execution_count": 40,
      "outputs": [
        {
          "output_type": "stream",
          "text": [
            "Enter the number : 407\n"
          ],
          "name": "stdout"
        }
      ]
    },
    {
      "cell_type": "code",
      "metadata": {
        "colab": {
          "base_uri": "https://localhost:8080/"
        },
        "id": "OomjSSIXJxU4",
        "outputId": "058f7e7a-adb2-4400-9375-e5798bffe271"
      },
      "source": [
        "order = len(str(num))\n",
        "sum = 0\n",
        "temp = num\n",
        "\n",
        "while temp != 0:\n",
        "      digit = temp % 10 \n",
        "      sum += digit ** order\n",
        "      temp //= 10\n",
        "\n",
        "if sum == num:\n",
        "    print(num, \"is an Armstrong Number\")\n",
        "else:\n",
        "    print(num, \"is not an Armstrong Number\")"
      ],
      "execution_count": 48,
      "outputs": [
        {
          "output_type": "stream",
          "text": [
            "407 is an Armstrong Number\n"
          ],
          "name": "stdout"
        }
      ]
    },
    {
      "cell_type": "markdown",
      "metadata": {
        "id": "Q8bHSUP-WhJc"
      },
      "source": [
        "# Python Program to Print the Fibonacci sequence"
      ]
    },
    {
      "cell_type": "code",
      "metadata": {
        "colab": {
          "base_uri": "https://localhost:8080/"
        },
        "id": "EV6FHFPHWg5t",
        "outputId": "0be1dca4-5d04-4540-ed87-0ec6cbd732a0"
      },
      "source": [
        "num = int(input(\"How many terms you want : \"))"
      ],
      "execution_count": 59,
      "outputs": [
        {
          "output_type": "stream",
          "text": [
            "How many terms you want : 15\n"
          ],
          "name": "stdout"
        }
      ]
    },
    {
      "cell_type": "code",
      "metadata": {
        "colab": {
          "base_uri": "https://localhost:8080/"
        },
        "id": "XPcYptBmWg2Q",
        "outputId": "877ba79d-3c75-4d2c-c2fd-c6536140554b"
      },
      "source": [
        "n1 , n2 = 0,1\n",
        "count = 0\n",
        "\n",
        "if num == 1:\n",
        "    print(\"Fibonnacci Series is :\\n\", n1)\n",
        "elif num > 1:\n",
        "    while count < num:\n",
        "        print(n1)\n",
        "        sum = n1+ n2\n",
        "         ## Updating terms\n",
        "        n1 = n2\n",
        "        n2 = sum\n",
        "        count += 1"
      ],
      "execution_count": 60,
      "outputs": [
        {
          "output_type": "stream",
          "text": [
            "0\n",
            "1\n",
            "1\n",
            "2\n",
            "3\n",
            "5\n",
            "8\n",
            "13\n",
            "21\n",
            "34\n",
            "55\n",
            "89\n",
            "144\n",
            "233\n",
            "377\n"
          ],
          "name": "stdout"
        }
      ]
    },
    {
      "cell_type": "markdown",
      "metadata": {
        "id": "-JS4G4YvIFrI"
      },
      "source": [
        "# Python Program to Count the Number of Digits Present In a Number"
      ]
    },
    {
      "cell_type": "markdown",
      "metadata": {
        "id": "vLwASwL6JIf7"
      },
      "source": [
        "## 1. Using while loop"
      ]
    },
    {
      "cell_type": "code",
      "metadata": {
        "colab": {
          "base_uri": "https://localhost:8080/"
        },
        "id": "llWIANwpWgzk",
        "outputId": "9d317dae-9b52-4f60-92f5-0002532d7b54"
      },
      "source": [
        "num = int(input(\"Enter the number : \"))"
      ],
      "execution_count": 1,
      "outputs": [
        {
          "output_type": "stream",
          "text": [
            "Enter the number : 1234\n"
          ],
          "name": "stdout"
        }
      ]
    },
    {
      "cell_type": "code",
      "metadata": {
        "colab": {
          "base_uri": "https://localhost:8080/"
        },
        "id": "Uf1u1tsuWgwp",
        "outputId": "fdd2dce2-9d2d-4dcd-c28a-9516b5f6f541"
      },
      "source": [
        "count = 0\n",
        "\n",
        "while num != 0: \n",
        "    num //= 10\n",
        "    count += 1\n",
        "\n",
        "print(\"Number of Digits : \", count)"
      ],
      "execution_count": 2,
      "outputs": [
        {
          "output_type": "stream",
          "text": [
            "Number of Digits :  4\n"
          ],
          "name": "stdout"
        }
      ]
    },
    {
      "cell_type": "markdown",
      "metadata": {
        "id": "NWuhd4qoJNWS"
      },
      "source": [
        "## 2. Using Str Method "
      ]
    },
    {
      "cell_type": "code",
      "metadata": {
        "colab": {
          "base_uri": "https://localhost:8080/"
        },
        "id": "_XAWrZiHWguH",
        "outputId": "e289d63f-ea8a-4f51-f676-8e9012fbd32e"
      },
      "source": [
        "num = int(input(\"Enter the number : \"))\n",
        "\n",
        "print(\"Number of Digits : \",len(str(num)))"
      ],
      "execution_count": 8,
      "outputs": [
        {
          "output_type": "stream",
          "text": [
            "Enter the number : 165188105548468451350\n",
            "Number of Digits :  21\n"
          ],
          "name": "stdout"
        }
      ]
    },
    {
      "cell_type": "markdown",
      "metadata": {
        "id": "jln4coFqOgRT"
      },
      "source": [
        "# Python Program to Count the Number of Each Vowel"
      ]
    },
    {
      "cell_type": "code",
      "metadata": {
        "colab": {
          "base_uri": "https://localhost:8080/"
        },
        "id": "IQMOgNY1JWmP",
        "outputId": "f8afec71-f7d1-4fc1-bd23-db76f3936c5e"
      },
      "source": [
        "vowels = \"aeiou\"\n",
        "\n",
        "string = str(input(\"Enter the sentence :\\n\"))"
      ],
      "execution_count": 9,
      "outputs": [
        {
          "output_type": "stream",
          "text": [
            "Enter the sentence :\n",
            "How are your doing buddy ?\n"
          ],
          "name": "stdout"
        }
      ]
    },
    {
      "cell_type": "code",
      "metadata": {
        "id": "JDzj0pgSO1VK"
      },
      "source": [
        "string = string.casefold()"
      ],
      "execution_count": 10,
      "outputs": []
    },
    {
      "cell_type": "code",
      "metadata": {
        "colab": {
          "base_uri": "https://localhost:8080/"
        },
        "id": "NYX4K8JaO8K-",
        "outputId": "4b597d1c-4176-452e-dcbc-77bddde1a4f3"
      },
      "source": [
        "# make a dictionary with each vowel a key and value 0\n",
        "count = {}.fromkeys(vowels,0)\n",
        "\n",
        "# count the vowels\n",
        "for char in string:\n",
        "    if char in count:\n",
        "        count[char] += 1\n",
        "\n",
        "print(count)"
      ],
      "execution_count": 11,
      "outputs": [
        {
          "output_type": "stream",
          "text": [
            "{'a': 1, 'e': 1, 'i': 1, 'o': 3, 'u': 2}\n"
          ],
          "name": "stdout"
        }
      ]
    },
    {
      "cell_type": "code",
      "metadata": {
        "id": "xIfFCuKLPovb"
      },
      "source": [
        "  "
      ],
      "execution_count": null,
      "outputs": []
    }
  ]
}